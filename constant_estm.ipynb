{
 "cells": [
  {
   "cell_type": "markdown",
   "metadata": {},
   "source": [
    "# Dynamic Growth Model"
   ]
  },
  {
   "cell_type": "markdown",
   "metadata": {},
   "source": [
    "## Imports"
   ]
  },
  {
   "cell_type": "code",
   "execution_count": null,
   "metadata": {
    "executionInfo": {
     "elapsed": 636,
     "status": "ok",
     "timestamp": 1699281990482,
     "user": {
      "displayName": "Marek Wadinger",
      "userId": "10942590422735318326"
     },
     "user_tz": -60
    },
    "id": "l551_AZysdvi"
   },
   "outputs": [],
   "source": [
    "import os\n",
    "import pickle\n",
    "import random\n",
    "import sys\n",
    "from functools import partial\n",
    "\n",
    "import matplotlib.pyplot as plt\n",
    "import numpy as np\n",
    "\n",
    "from core.generator import gen_u_daily_sine\n",
    "from core.lettuce_model import get_default_constants, lettuce_growth_model\n",
    "from core.plot import plot_response\n",
    "from core.simulate import simulate\n",
    "\n",
    "# For reproducibility\n",
    "random.seed(40)\n",
    "\n",
    "# Enable automatic module reload\n",
    "%load_ext autoreload\n",
    "%autoreload 2"
   ]
  },
  {
   "cell_type": "markdown",
   "metadata": {},
   "source": [
    "## Setup Environment in Google Colab"
   ]
  },
  {
   "cell_type": "code",
   "execution_count": null,
   "metadata": {
    "colab": {
     "base_uri": "https://localhost:8080/"
    },
    "executionInfo": {
     "elapsed": 12676,
     "status": "ok",
     "timestamp": 1699282006046,
     "user": {
      "displayName": "Marek Wadinger",
      "userId": "10942590422735318326"
     },
     "user_tz": -60
    },
    "id": "_5eyg2hDsyCl",
    "outputId": "5de369d1-f7a9-4bbc-81b2-e5ae115fad87"
   },
   "outputs": [],
   "source": [
    "# Setup Google Colab Environment\n",
    "if \"google.colab\" in sys.modules:\n",
    "    from google.colab import drive, userdata\n",
    "\n",
    "    drive.mount(\"/content/drive\")\n",
    "    os.chdir(userdata.get(\"project_path\"))\n",
    "    !git pull\n",
    "    !git checkout dev\n",
    "    !git pull\n",
    "    %pip install -r requirements-dev.txt\n",
    "    !pre-commit install --hook-type pre-push"
   ]
  },
  {
   "cell_type": "code",
   "execution_count": null,
   "metadata": {
    "colab": {
     "base_uri": "https://localhost:8080/"
    },
    "executionInfo": {
     "elapsed": 1149,
     "status": "ok",
     "timestamp": 1699007091467,
     "user": {
      "displayName": "Marek Wadinger",
      "userId": "10942590422735318326"
     },
     "user_tz": -60
    },
    "id": "y_DRmGk6szUW",
    "outputId": "fafb95f0-6fca-4aee-91e3-3a690ea70988"
   },
   "outputs": [],
   "source": [
    "# Commit changes\n",
    "if \"google.colab\" in sys.modules:\n",
    "    !git add -A\n",
    "    name = userdata.get(\"github_name\")\n",
    "    email = userdata.get(\"github_email\")\n",
    "    !git -c user.name=\"$name\" user.email=\"$email\" commit -m \"FIX: Githu\""
   ]
  },
  {
   "cell_type": "code",
   "execution_count": null,
   "metadata": {
    "id": "o4QCeKbCs0YZ"
   },
   "outputs": [],
   "source": [
    "# Push changes to GitHub\n",
    "if \"google.colab\" in sys.modules:\n",
    "    token = userdata.get(\"github_token\")\n",
    "    !git push https://$token@github.com/MarekWadinger/ecompc-greenhouse-platform.git"
   ]
  },
  {
   "cell_type": "markdown",
   "metadata": {},
   "source": [
    "## Case Study: reuse of model with selected constants"
   ]
  },
  {
   "cell_type": "code",
   "execution_count": null,
   "metadata": {
    "id": "_nPsJ0mcsdvi"
   },
   "outputs": [],
   "source": [
    "x0 = [0.72, 2.7]\n",
    "u_min = [10, 0, 400]\n",
    "u_max = [25, 100, 800]\n",
    "sim_time = 1200"
   ]
  },
  {
   "cell_type": "code",
   "execution_count": null,
   "metadata": {
    "id": "4BeMhZhpsdvj"
   },
   "outputs": [],
   "source": [
    "u = partial(gen_u_daily_sine, u_min=u_min, u_max=u_max)\n",
    "\n",
    "t_out, y_out, u_out = simulate(\n",
    "    lettuce_growth_model, u=u, sim_time=sim_time, t_s=60 * 60, x0=x0\n",
    ")"
   ]
  },
  {
   "cell_type": "code",
   "execution_count": null,
   "metadata": {
    "id": "9olRNJplsdvj",
    "outputId": "f1f63d47-a341-4323-c193-3ab45cdb9831"
   },
   "outputs": [],
   "source": [
    "plot_response(t_out, y_out, u_out, u_min=u_min, u_max=u_max)\n",
    "plt.show()"
   ]
  },
  {
   "cell_type": "markdown",
   "metadata": {},
   "source": [
    "# How to Change Constants?"
   ]
  },
  {
   "cell_type": "code",
   "execution_count": null,
   "metadata": {},
   "outputs": [],
   "source": [
    "from core import lettuce_model\n",
    "\n",
    "constants = {\n",
    "    key: value for key, value in vars(lettuce_model).items() if key.isupper()\n",
    "}\n",
    "constants_new = {\n",
    "    \"C_YF\": 3,\n",
    "    \"C_GR_MAX\": 5e-6,\n",
    "    \"C_K\": 1.2,\n",
    "    \"C_LAR\": 75e-3,\n",
    "    \"C_EPSILON\": 17e-6,\n",
    "    \"UF\": 0.5,\n",
    "}\n",
    "constants.update(constants_new)"
   ]
  },
  {
   "cell_type": "code",
   "execution_count": null,
   "metadata": {},
   "outputs": [],
   "source": [
    "u = partial(gen_u_daily_sine, u_min=u_min, u_max=u_max)\n",
    "\n",
    "t_out, y_out2, u_out = simulate(\n",
    "    lettuce_growth_model,\n",
    "    u=u,\n",
    "    sim_time=sim_time,\n",
    "    t_s=60 * 60,\n",
    "    x0=x0,\n",
    "    **constants,\n",
    ")\n",
    "plot_response(t_out, y_out2, u_out, u_min=u_min, u_max=u_max)\n",
    "plt.show()"
   ]
  },
  {
   "cell_type": "markdown",
   "metadata": {},
   "source": [
    "## One parameter random generating data"
   ]
  },
  {
   "cell_type": "code",
   "execution_count": null,
   "metadata": {},
   "outputs": [],
   "source": [
    "HOW_MANY = 100  # how many values to generate\n",
    "\n",
    "\n",
    "def randomize_const(\n",
    "    consts: dict[str, float],\n",
    "    which: list | str | None = \"all\",\n",
    "    min_change: float = 0.9,\n",
    "    max_change: float = 1.1,\n",
    "    seed: int | None = None,\n",
    "):\n",
    "    \"\"\"Multiply value in the dictionary by random number.\n",
    "\n",
    "    Args:\n",
    "        consts (dict[str, float], optional): Dictionary with constants. Defaults to None.\n",
    "        which (str, optional): Which constant to change. Defaults to None.\n",
    "        min_change (float, optional): Minimum change in percentage of default value. Defaults to 0.9.\n",
    "        max_change (float, optional): Maximum change in percentage of default value.. Defaults to 1.1.\n",
    "\n",
    "    Returns:\n",
    "        dict[str, float]: Dictionary with changed constant or new dictionary .\n",
    "    \"\"\"\n",
    "    np.random.seed(seed)\n",
    "\n",
    "    if which is None:\n",
    "        # This will give us the only key if the dictionary has only one\n",
    "        keys = [random.choice(list(consts.keys()))]\n",
    "    elif which == \"all\":\n",
    "        keys = list(consts.keys())\n",
    "    elif isinstance(which, str):\n",
    "        keys = [which]\n",
    "\n",
    "    for key in keys:\n",
    "        consts[key] = random.uniform(min_change, max_change) * consts[key]\n",
    "\n",
    "    return consts"
   ]
  },
  {
   "cell_type": "code",
   "execution_count": null,
   "metadata": {},
   "outputs": [],
   "source": [
    "def simulate_randomized(\n",
    "    which: str, how_many: int = HOW_MANY\n",
    ") -> dict[str, np.ndarray]:\n",
    "    c_list: list[dict] = [\n",
    "        randomize_const(get_default_constants(), which)\n",
    "        for _ in range(how_many)\n",
    "    ]\n",
    "\n",
    "    results = {}\n",
    "\n",
    "    for c in c_list:\n",
    "        _, y_out, _ = simulate(\n",
    "            lettuce_growth_model,\n",
    "            u=u,\n",
    "            sim_time=sim_time,\n",
    "            t_s=60 * 60,\n",
    "            x0=x0,\n",
    "            **c,\n",
    "        )\n",
    "        results[f\"{c}\"] = y_out\n",
    "\n",
    "    return results\n",
    "\n",
    "\n",
    "def save_results(\n",
    "    results: dict[str, np.ndarray], which: str, how_many: int = HOW_MANY\n",
    "):\n",
    "    with open(\n",
    "        f\"results/constant_estimation/{which.lower()}_{how_many}.pkl\",\n",
    "        \"wb\",\n",
    "    ) as f:\n",
    "        pickle.dump(results, f)"
   ]
  },
  {
   "cell_type": "code",
   "execution_count": null,
   "metadata": {},
   "outputs": [],
   "source": [
    "for const in [\"C_YF\", \"C_GR_MAX\", \"C_K\", \"C_LAR\", \"C_EPSILON\"]:\n",
    "    print(f\"Simulating {HOW_MANY} with random {const:.<12}\", end=\"\\r\")\n",
    "    results = simulate_randomized(const)\n",
    "\n",
    "    save_results(results, const)"
   ]
  },
  {
   "cell_type": "markdown",
   "metadata": {},
   "source": [
    "## Every parameter random generating data"
   ]
  },
  {
   "cell_type": "code",
   "execution_count": null,
   "metadata": {},
   "outputs": [],
   "source": [
    "which = \"all\"\n",
    "\n",
    "results = simulate_randomized(which)\n",
    "\n",
    "save_results(results, which)"
   ]
  }
 ],
 "metadata": {
  "colab": {
   "provenance": []
  },
  "kernelspec": {
   "display_name": "",
   "language": "python",
   "name": ""
  },
  "language_info": {
   "codemirror_mode": {
    "name": "ipython",
    "version": 3
   },
   "file_extension": ".py",
   "mimetype": "text/x-python",
   "name": "python",
   "nbconvert_exporter": "python",
   "pygments_lexer": "ipython3",
   "version": "3.11.4"
  }
 },
 "nbformat": 4,
 "nbformat_minor": 4
}
